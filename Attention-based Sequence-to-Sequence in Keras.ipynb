{
 "cells": [
  {
   "cell_type": "code",
   "execution_count": 1,
   "metadata": {},
   "outputs": [
    {
     "name": "stderr",
     "output_type": "stream",
     "text": [
      "Using TensorFlow backend.\n"
     ]
    }
   ],
   "source": [
    "import sys\n",
    "import os\n",
    "import pandas as pd\n",
    "import numpy as np\n",
    "\n",
    "from keras.layers import Input, Embedding, LSTM, TimeDistributed, Dense\n",
    "from keras.models import Model, load_model\n",
    "\n",
    "# To import 'katakana' from relative path\n",
    "sys.path.append(os.path.abspath(os.path.join('..')))\n",
    "\n",
    "INPUT_LENGTH = 20\n",
    "OUTPUT_LENGTH = 20\n"
   ]
  },
  {
   "cell_type": "code",
   "execution_count": 2,
   "metadata": {},
   "outputs": [
    {
     "name": "stdout",
     "output_type": "stream",
     "text": [
      "/home/io/Desktop/katakana-from-Eng-to-Jap\n"
     ]
    }
   ],
   "source": [
    "print(sys.path[-1])"
   ]
  },
  {
   "cell_type": "markdown",
   "metadata": {},
   "source": [
    "# Data pre-processing"
   ]
  },
  {
   "cell_type": "code",
   "execution_count": 3,
   "metadata": {},
   "outputs": [
    {
     "name": "stdout",
     "output_type": "stream",
     "text": [
      "(0    Unschooling\n",
      "1       Lovosice\n",
      "Name: 0, dtype: object, 0    アンスクーリング\n",
      "1      ロヴォシツェ\n",
      "Name: 1, dtype: object)\n",
      "------------------------------------------------------------\n",
      "(11206      Dorogobuzh\n",
      "80376    Gail Hopkins\n",
      "Name: 0, dtype: object, 11206       ドロゴブージ\n",
      "80376    ゲイル・ホプキンス\n",
      "Name: 1, dtype: object)\n",
      "------------------------------------------------------------\n",
      "([u'dorogobuzh', u'gail hopkins'], [u'\\u30c9\\u30ed\\u30b4\\u30d6\\u30fc\\u30b8', u'\\u30b2\\u30a4\\u30eb\\u30fb\\u30db\\u30d7\\u30ad\\u30f3\\u30b9'])\n",
      "------------------------------------------------------------\n",
      "training size is 64356\n",
      "validation size is 10726\n"
     ]
    }
   ],
   "source": [
    "data = pd.read_csv('../data/joined_titles.csv', header=None)\n",
    "print(data[0][:2], data[1][:2])\n",
    "print('------------------------------------------------------------')\n",
    "data = data.sample(frac=1, random_state=0) # random_state=0 is seed for the random number generator\n",
    "print(data[0][:2], data[1][:2])\n",
    "print('------------------------------------------------------------')\n",
    "\n",
    "# `str.lower()` is to convert a string from uppercase, or even part uppercase to lowercase\n",
    "utf8_eng = [s.decode('utf-8').lower() for s in data[0]]\n",
    "utf8_kat = [s.decode('utf-8') for s in data[1]]\n",
    "print(utf8_eng[:2], utf8_kat[:2])\n",
    "print('------------------------------------------------------------')\n",
    "\n",
    "data_size = len(data)\n",
    "# We will use the first 0-60th %-tile (60% of data for the training\n",
    "training_utf8_eng  = utf8_eng[data_size*0/100:data_size*60/100]\n",
    "training_utf8_kat = utf8_kat[data_size*0/100:data_size*60/100]\n",
    "\n",
    "# We will use the first 60-70th %-tile (10%) of data for the training\n",
    "validation_utf8_eng = utf8_eng[data_size*60/100:data_size*70/100]\n",
    "validation_utf8_kat = utf8_kat[data_size*60/100:data_size*70/100]\n",
    "\n",
    "print('training size is {}'.format(len(training_utf8_eng)))\n",
    "print('validation size is {}'.format(len(validation_utf8_eng)))"
   ]
  },
  {
   "cell_type": "markdown",
   "metadata": {},
   "source": [
    "### Transform data into Numpy arrays\n",
    "\n",
    "We transform the sequences of characters into sequences of integer IDs. This will be done by using pre-written functions in `encoding` module. \n",
    "- First, `encoding.build_characters_encoding` will build encoding/decoding dictionary from the data. \n",
    "- Then, `encoding.transform` will transform the data into numpy array.\n",
    "\n",
    "Check [the previous notebook](./Writing Katakana using Sequence-to-Sequence in Keras) for the details about the transformation."
   ]
  },
  {
   "cell_type": "code",
   "execution_count": 4,
   "metadata": {},
   "outputs": [],
   "source": [
    "def char_int_relation(names):\n",
    "    \"\"\"\n",
    "    input:\n",
    "        names: list of strings\n",
    "    return:\n",
    "        char2int\n",
    "        int2char\n",
    "        count\n",
    "    \"\"\"\n",
    "    count = 2\n",
    "    char2int = {}\n",
    "    int2char = {1: 'START'}\n",
    "    for c in set([c for name in names for c in name]):\n",
    "        char2int[c] = count\n",
    "        int2char[count] = c\n",
    "        count += 1\n",
    "    return char2int, int2char, count\n",
    "\n",
    "def transform(char2int, utf8_eng_or_kat, vector_size=20):\n",
    "    \"\"\"\n",
    "    input:\n",
    "        encoding: encoding dict built by char_int_relation()\n",
    "        utf8_eng_or_kat: list of strings\n",
    "        vector_size:\n",
    "    return:\n",
    "    \"\"\"\n",
    "    transformed_data = np.zeros(\n",
    "        shape=(len(utf8_eng_or_kat), vector_size), \n",
    "        dtype='int')\n",
    "    for i in range(len(utf8_eng_or_kat)):\n",
    "        for j in range(min(len(utf8_eng_or_kat[i]), vector_size)):\n",
    "            transformed_data[i][j] = char2int[utf8_eng_or_kat[i][j]]\n",
    "    return transformed_data"
   ]
  },
  {
   "cell_type": "code",
   "execution_count": 5,
   "metadata": {},
   "outputs": [
    {
     "name": "stdout",
     "output_type": "stream",
     "text": [
      "('English character dict size:', 54)\n",
      "('Katakana character dict size:', 89)\n",
      "('training_encoder_input', (64356, 20))\n",
      "('encoded_training_output', (64356, 20))\n",
      "('encoded_validation_input', (10726, 20))\n",
      "('encoded_validation_output', (10726, 20))\n"
     ]
    }
   ],
   "source": [
    "engchar2int_dict, int2engchar_dict, eng_char_size = char_int_relation(utf8_eng)\n",
    "katchar2int_dict, int2katchar_dict, kat_char_size = char_int_relation(utf8_kat)\n",
    "\n",
    "print('English character dict size:', eng_char_size)\n",
    "print('Katakana character dict size:', kat_char_size)\n",
    "\n",
    "training_encoder_input = transform(\n",
    "    engchar2int_dict, training_utf8_eng, vector_size=INPUT_LENGTH)\n",
    "encoded_training_output = transform(\n",
    "    katchar2int_dict, training_utf8_kat, vector_size=OUTPUT_LENGTH)\n",
    "\n",
    "print('training_encoder_input', training_encoder_input.shape)\n",
    "print('encoded_training_output', encoded_training_output.shape)\n",
    "\n",
    "encoded_validation_input = transform(\n",
    "    engchar2int_dict, validation_utf8_eng, vector_size=INPUT_LENGTH)  # INPUT_LENGTH=20\n",
    "encoded_validation_output = transform(\n",
    "    katchar2int_dict, validation_utf8_kat, vector_size=OUTPUT_LENGTH) # OUTPUT_LENGTH=20\n",
    "\n",
    "print('encoded_validation_input', encoded_validation_input.shape)\n",
    "print('encoded_validation_output', encoded_validation_output.shape)"
   ]
  },
  {
   "cell_type": "markdown",
   "metadata": {},
   "source": [
    "# Sequence-to-Sequence in Keras"
   ]
  },
  {
   "cell_type": "markdown",
   "metadata": {},
   "source": [
    "### Encoder / Decoder"
   ]
  },
  {
   "cell_type": "code",
   "execution_count": 6,
   "metadata": {},
   "outputs": [
    {
     "name": "stdout",
     "output_type": "stream",
     "text": [
      "('encoder', <tf.Tensor 'lstm_1/transpose_2:0' shape=(?, 20, 64) dtype=float32>)\n",
      "('encoder_last', <tf.Tensor 'strided_slice:0' shape=(?, 64) dtype=float32>)\n",
      "('decoder', <tf.Tensor 'lstm_2/transpose_2:0' shape=(?, 20, 64) dtype=float32>)\n"
     ]
    }
   ],
   "source": [
    "encoder_input = Input(shape=(INPUT_LENGTH,))\n",
    "decoder_input = Input(shape=(OUTPUT_LENGTH,))\n",
    "\n",
    "from keras.layers import SimpleRNN\n",
    "\n",
    "encoder = Embedding(eng_char_size, 64, \n",
    "                    input_length=INPUT_LENGTH, \n",
    "                    mask_zero=True)(encoder_input)\n",
    "encoder = LSTM(64, \n",
    "               return_sequences=True, \n",
    "               unroll=True)(encoder)\n",
    "encoder_last = encoder[:,-1,:]\n",
    "\n",
    "print('encoder', encoder)\n",
    "print('encoder_last', encoder_last)\n",
    "\n",
    "decoder = Embedding(kat_char_size, 64, \n",
    "                    input_length=OUTPUT_LENGTH, \n",
    "                    mask_zero=True)(decoder_input)\n",
    "decoder = LSTM(64, \n",
    "               return_sequences=True, \n",
    "               unroll=True\n",
    "              )(decoder, initial_state=[encoder_last, encoder_last])\n",
    "\n",
    "print('decoder', decoder)"
   ]
  },
  {
   "cell_type": "markdown",
   "metadata": {},
   "source": [
    "### Attention Mechanism\n",
    "\n",
    "Reference: \n",
    "[Effective Approaches to Attention-based Neural Machine Translation](https://arxiv.org/pdf/1508.04025.pdf)'s \n",
    "**Global Attention** with **Dot**-based scoring function (Section 3, 3.1)\n"
   ]
  },
  {
   "cell_type": "code",
   "execution_count": 7,
   "metadata": {},
   "outputs": [
    {
     "name": "stdout",
     "output_type": "stream",
     "text": [
      "('attention before activation', <tf.Tensor 'dot_1/MatMul:0' shape=(?, 20, 20) dtype=float32>)\n",
      "('attention after activation', <tf.Tensor 'attention/truediv:0' shape=(?, 20, 20) dtype=float32>)\n",
      "('context', <tf.Tensor 'dot_2/MatMul:0' shape=(?, 20, 64) dtype=float32>)\n",
      "('decoder_combined_context', <tf.Tensor 'concatenate_1/concat:0' shape=(?, 20, 128) dtype=float32>)\n",
      "('output', <tf.Tensor 'time_distributed_1/Reshape_1:0' shape=(?, 20, 64) dtype=float32>)\n",
      "('output', <tf.Tensor 'time_distributed_2/Reshape_1:0' shape=(?, 20, 89) dtype=float32>)\n"
     ]
    }
   ],
   "source": [
    "from keras.layers import Activation, dot, concatenate\n",
    "\n",
    "# Equation (7) with 'dot' score from Section 3.1 in the paper.\n",
    "# Note that we reuse Softmax-activation layer instead of writing tensor calculation\n",
    "# dot([(?, 20, 64), (?, 20, 64)], axes=[2, 2]) = (?, 20, 20)\n",
    "attention = dot([decoder, encoder], axes=[2, 2])\n",
    "print('attention before activation', attention)\n",
    "attention = Activation('softmax', name='attention')(attention)\n",
    "print('attention after activation', attention)\n",
    "\n",
    "# dot([(?, 20, 20), (?, 20, 64)], axes=[2, 1]) = (?, 20, 64)\n",
    "context = dot([attention, encoder], axes=[2,1])\n",
    "print('context', context)\n",
    "\n",
    "decoder_combined_context = concatenate([context, decoder])\n",
    "print('decoder_combined_context', decoder_combined_context)\n",
    "\n",
    "# Has another weight + tanh layer as described in equation (5) of the paper\n",
    "output = TimeDistributed(Dense(64, activation=\"tanh\"))(\n",
    "    decoder_combined_context)\n",
    "print('output', output)\n",
    "output = TimeDistributed(Dense(\n",
    "    kat_char_size, \n",
    "    activation=\"softmax\"))(output)\n",
    "print('output', output)"
   ]
  },
  {
   "cell_type": "code",
   "execution_count": 8,
   "metadata": {},
   "outputs": [],
   "source": [
    "model = Model(inputs=[encoder_input, decoder_input], outputs=[output])\n",
    "model.compile(optimizer='adam', loss='categorical_crossentropy')"
   ]
  },
  {
   "cell_type": "markdown",
   "metadata": {},
   "source": [
    "## Training the model"
   ]
  },
  {
   "cell_type": "code",
   "execution_count": 9,
   "metadata": {},
   "outputs": [],
   "source": [
    "training_decoder_input = np.zeros_like(encoded_training_output)\n",
    "training_decoder_input[:, 1:] = encoded_training_output[:,:-1]\n",
    "training_decoder_input[:, 0] = 1 # =encoding.CHAR_CODE_START\n",
    "training_decoder_output = np.eye(kat_char_size)[\n",
    "    encoded_training_output.astype('int')]\n",
    "\n",
    "validation_encoder_input = encoded_validation_input\n",
    "validation_decoder_input = np.zeros_like(encoded_validation_output)\n",
    "validation_decoder_input[:, 1:] = encoded_validation_output[:,:-1]\n",
    "validation_decoder_input[:, 0] = 1 # =encoding.CHAR_CODE_START\n",
    "validation_decoder_output = np.eye(kat_char_size)[\n",
    "    encoded_validation_output.astype('int')]"
   ]
  },
  {
   "cell_type": "code",
   "execution_count": 10,
   "metadata": {},
   "outputs": [
    {
     "name": "stdout",
     "output_type": "stream",
     "text": [
      "Train on 64356 samples, validate on 10726 samples\n",
      "Epoch 1/1\n",
      " - 33s - loss: 0.5785 - val_loss: 0.7054\n"
     ]
    }
   ],
   "source": [
    "if os.path.isfile('model.h5'):\n",
    "    model = load_model('model.h5')\n",
    "else:\n",
    "    model.fit(x=[training_encoder_input, training_decoder_input], \n",
    "              y=[training_decoder_output],\n",
    "          validation_data=([validation_encoder_input, validation_decoder_input],\n",
    "                           [validation_decoder_output]),\n",
    "          verbose=2, batch_size=64, epochs=30)\n",
    "\n",
    "model.fit(x=[training_encoder_input, training_decoder_input], \n",
    "          y=[training_decoder_output],\n",
    "          validation_data=([validation_encoder_input, validation_decoder_input],\n",
    "                           [validation_decoder_output]),\n",
    "          verbose=2, batch_size=64, epochs=1)\n",
    "\n",
    "model.save('model.h5')"
   ]
  },
  {
   "cell_type": "markdown",
   "metadata": {},
   "source": [
    "### Testing the model\n"
   ]
  },
  {
   "cell_type": "code",
   "execution_count": 11,
   "metadata": {},
   "outputs": [
    {
     "name": "stdout",
     "output_type": "stream",
     "text": [
      "('James', u'\\u30b8\\u30a7\\u30fc\\u30e0\\u30ba')\n",
      "('John', u'\\u30b8\\u30e7\\u30f3')\n",
      "('Robert', u'\\u30ed\\u30d0\\u30fc\\u30c8')\n",
      "('Mary', u'\\u30de\\u30ea\\u30fc')\n",
      "('Patricia', u'\\u30d1\\u30c8\\u30ea\\u30b7\\u30a2')\n",
      "('Linda', u'\\u30ea\\u30f3\\u30c0')\n"
     ]
    }
   ],
   "source": [
    "def generate(text):\n",
    "    encoder_input = transform(engchar2int_dict, [text.lower()], 20)\n",
    "    decoder_input = np.zeros(shape=(len(encoder_input), OUTPUT_LENGTH))\n",
    "    decoder_input[:,0] = 1 # =encoding.CHAR_CODE_START\n",
    "    for i in range(1, OUTPUT_LENGTH):\n",
    "        output = model.predict([encoder_input, decoder_input]).argmax(axis=2)\n",
    "        decoder_input[:,i] = output[:,i]\n",
    "    return decoder_input[:,1:]\n",
    "\n",
    "def decode(decoding, sequence):\n",
    "    text = ''\n",
    "    for i in sequence:\n",
    "        if i == 0:\n",
    "            break\n",
    "        text += int2katchar_dict[i]\n",
    "    return text\n",
    "\n",
    "def to_katakana(text):\n",
    "    decoder_output = generate(text)\n",
    "    return decode(int2katchar_dict, decoder_output[0])\n",
    "\n",
    "\n",
    "common_american_names = ['James', 'John', 'Robert', 'Mary', 'Patricia', 'Linda']\n",
    "for name in common_american_names:\n",
    "    print(name, to_katakana(name))"
   ]
  },
  {
   "cell_type": "code",
   "execution_count": 12,
   "metadata": {},
   "outputs": [
    {
     "name": "stdout",
     "output_type": "stream",
     "text": [
      "バナナ\n",
      "ピーター・パーカー\n",
      "ジョニー・スノウ\n"
     ]
    }
   ],
   "source": [
    "print(to_katakana('Banana'))\n",
    "print(to_katakana('Peter Parker'))\n",
    "print(to_katakana('Jonny Snow'))"
   ]
  },
  {
   "cell_type": "markdown",
   "metadata": {},
   "source": [
    "# Visualize Attention\n",
    "\n",
    "The next step is visualizing the attention values of the medel during the translation. \n",
    "\n",
    "To do that, the first step is to locate \"attention\" layer of the model. The attention layer is the 7th layers of the model (`model.layers[7]`), which is the softmax activation-layer after dot-score. Or we can also simply call `model.get_layer('attention')` as we previously name the layer as \"attention\"."
   ]
  },
  {
   "cell_type": "code",
   "execution_count": 13,
   "metadata": {},
   "outputs": [
    {
     "name": "stdout",
     "output_type": "stream",
     "text": [
      "<keras.engine.input_layer.InputLayer object at 0x7f3331ee4110>\tname:input_2\n",
      "<keras.engine.input_layer.InputLayer object at 0x7f3331ee4190>\tname:input_1\n",
      "<keras.layers.embeddings.Embedding object at 0x7f3331ee4250>\tname:embedding_2\n",
      "<keras.layers.embeddings.Embedding object at 0x7f3331ee41d0>\tname:embedding_1\n",
      "<keras.layers.recurrent.LSTM object at 0x7f3331ee4310>\tname:lstm_2\n",
      "<keras.layers.recurrent.LSTM object at 0x7f3331ee4750>\tname:lstm_1\n",
      "<keras.layers.merge.Dot object at 0x7f3331ee48d0>\tname:dot_1\n",
      "<keras.layers.core.Activation object at 0x7f3331ee4910>\tname:attention\n",
      "<keras.layers.merge.Dot object at 0x7f3331ee4950>\tname:dot_2\n",
      "<keras.layers.merge.Concatenate object at 0x7f3331ee4990>\tname:concatenate_1\n",
      "<keras.layers.wrappers.TimeDistributed object at 0x7f3331edbd10>\tname:time_distributed_1\n",
      "<keras.layers.wrappers.TimeDistributed object at 0x7f33358e9190>\tname:time_distributed_2\n"
     ]
    }
   ],
   "source": [
    "layers = model.layers\n",
    "for l in layers:\n",
    "    print('%s\\tname:%s' % (str(l), l.name))\n",
    "    \n",
    "assert(model.layers[7] == model.get_layer('attention'))"
   ]
  },
  {
   "cell_type": "markdown",
   "metadata": {},
   "source": [
    "We also need to re-build the model so that it returns the output from the attention layer in addition to the normal output."
   ]
  },
  {
   "cell_type": "code",
   "execution_count": 14,
   "metadata": {},
   "outputs": [
    {
     "name": "stdout",
     "output_type": "stream",
     "text": [
      "<keras.engine.training.Model object at 0x7f3331edb110>\n",
      "[(None, 20, 89), (None, 20, 20)]\n"
     ]
    }
   ],
   "source": [
    "attention_layer = model.get_layer('attention') # or model.layers[7]\n",
    "attention_model = Model(inputs=model.inputs, \n",
    "                        outputs=model.outputs + [attention_layer.output])\n",
    "\n",
    "print(attention_model)\n",
    "print(attention_model.output_shape)"
   ]
  },
  {
   "cell_type": "code",
   "execution_count": 15,
   "metadata": {},
   "outputs": [],
   "source": [
    "%matplotlib inline  \n",
    "import matplotlib\n",
    "import matplotlib.pyplot as plt\n",
    "import seaborn\n",
    "\n",
    "seaborn.set(font=['AppleMyungjo'], font_scale=3)\n",
    "\n",
    "def attent_and_generate(text):\n",
    "    encoder_input = transform(engchar2int_dict, [text.lower()], 20)\n",
    "    decoder_input = np.zeros(shape=(len(encoder_input), OUTPUT_LENGTH))\n",
    "    decoder_input[:,0] = 1 # =encoding.CHAR_CODE_START\n",
    "    \n",
    "    for i in range(1, OUTPUT_LENGTH):\n",
    "        output, attention = attention_model.predict([encoder_input, decoder_input])\n",
    "        decoder_input[:,i] = output.argmax(axis=2)[:,i]\n",
    "        attention_density = attention[0]\n",
    "        decoded_output = decode(int2katchar_dict, decoder_input[0][1:])\n",
    "        \n",
    "    return attention_density, decoded_output\n",
    "\n",
    "\n",
    "def visualize(text):\n",
    "    attention_density, katakana = attent_and_generate(text)\n",
    "\n",
    "    plt.clf()\n",
    "    plt.figure(figsize=(28,12))\n",
    "    ax = seaborn.heatmap(attention_density[:len(katakana), :len(text)+1],\n",
    "        xticklabels=[w for w in text],\n",
    "        yticklabels=[w for w in katakana])\n",
    "\n",
    "    ax.invert_yaxis()\n",
    "    plt.show()\n"
   ]
  },
  {
   "cell_type": "code",
   "execution_count": 16,
   "metadata": {},
   "outputs": [
    {
     "name": "stderr",
     "output_type": "stream",
     "text": [
      "/usr/local/lib/python2.7/dist-packages/matplotlib/font_manager.py:1316: UserWarning: findfont: Font family [u'AppleMyungjo'] not found. Falling back to DejaVu Sans\n",
      "  (prop.get_family(), self.defaultFamily[fontext]))\n"
     ]
    },
    {
     "data": {
      "text/plain": [
       "<matplotlib.figure.Figure at 0x7f33bc48f150>"
      ]
     },
     "metadata": {},
     "output_type": "display_data"
    },
    {
     "data": {
      "image/png": "[encoded data removed]",
      "text/plain": [
       "<matplotlib.figure.Figure at 0x7f3331edb950>"
      ]
     },
     "metadata": {
      "needs_background": "light"
     },
     "output_type": "display_data"
    }
   ],
   "source": [
    "visualize('Jonathan Snow')"
   ]
  },
  {
   "cell_type": "code",
   "execution_count": 17,
   "metadata": {},
   "outputs": [
    {
     "data": {
      "text/plain": [
       "<matplotlib.figure.Figure at 0x7f3333cedcd0>"
      ]
     },
     "metadata": {},
     "output_type": "display_data"
    },
    {
     "data": {
      "image/png": "[encoded data removed]",
      "text/plain": [
       "<matplotlib.figure.Figure at 0x7f327ee00cd0>"
      ]
     },
     "metadata": {
      "needs_background": "light"
     },
     "output_type": "display_data"
    }
   ],
   "source": [
    "visualize('Utada Hikaru')"
   ]
  },
  {
   "cell_type": "code",
   "execution_count": 18,
   "metadata": {},
   "outputs": [
    {
     "data": {
      "text/plain": [
       "<matplotlib.figure.Figure at 0x7f327e24f0d0>"
      ]
     },
     "metadata": {},
     "output_type": "display_data"
    },
    {
     "data": {
      "image/png": "[encoded data removed]",
      "text/plain": [
       "<matplotlib.figure.Figure at 0x7f327e6ca550>"
      ]
     },
     "metadata": {
      "needs_background": "light"
     },
     "output_type": "display_data"
    }
   ],
   "source": [
    "visualize('Harry Potter')"
   ]
  },
  {
   "cell_type": "code",
   "execution_count": null,
   "metadata": {},
   "outputs": [],
   "source": []
  }
 ],
 "metadata": {
  "kernelspec": {
   "display_name": "kernelForTF",
   "language": "python",
   "name": "kernelfortf"
  },
  "language_info": {
   "codemirror_mode": {
    "name": "ipython",
    "version": 2
   },
   "file_extension": ".py",
   "mimetype": "text/x-python",
   "name": "python",
   "nbconvert_exporter": "python",
   "pygments_lexer": "ipython2",
   "version": "2.7.12"
  }
 },
 "nbformat": 4,
 "nbformat_minor": 2
}
