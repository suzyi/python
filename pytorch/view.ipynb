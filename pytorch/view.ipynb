{
 "cells": [
  {
   "cell_type": "markdown",
   "metadata": {},
   "source": [
    "# view\n",
    "Guorui Shen, guorui233@outlook.com, Aug 1st, 2020."
   ]
  },
  {
   "cell_type": "code",
   "execution_count": 1,
   "metadata": {},
   "outputs": [
    {
     "name": "stdout",
     "output_type": "stream",
     "text": [
      "------------------input------------------\n",
      "tensor([[[[ 0.7154, -0.1634, -0.6165, -1.7436],\n",
      "          [ 0.6458, -1.3668,  0.8625, -0.8867],\n",
      "          [ 0.9472,  1.2849, -1.1606, -1.6600]],\n",
      "\n",
      "         [[ 0.1520,  0.1975, -1.2695,  0.5366],\n",
      "          [-0.3363,  0.4827, -2.7839, -0.7188],\n",
      "          [ 0.5801, -1.6176,  0.1899, -1.3722]]],\n",
      "\n",
      "\n",
      "        [[[-0.5358, -1.2565,  0.3877, -0.0725],\n",
      "          [-0.2858,  1.8770, -1.2042,  0.1365],\n",
      "          [-0.7776, -0.8146, -1.9195,  2.6361]],\n",
      "\n",
      "         [[-1.8197,  1.6110,  0.0650,  1.1061],\n",
      "          [-0.0091,  0.5754, -0.8369, -0.3397],\n",
      "          [ 0.8645,  1.2806, -0.3324,  0.4522]]]])\n",
      "torch.Size([2, 2, 3, 4])\n"
     ]
    }
   ],
   "source": [
    "import torch\n",
    "import torch.nn.functional as F\n",
    "print(\"------------------input------------------\")\n",
    "batch = 2\n",
    "channel = 2\n",
    "width = 3\n",
    "height = 4\n",
    "im = torch.randn((batch, channel, width, height))\n",
    "print(im)\n",
    "print(im.shape)"
   ]
  },
  {
   "cell_type": "code",
   "execution_count": 2,
   "metadata": {},
   "outputs": [
    {
     "name": "stdout",
     "output_type": "stream",
     "text": [
      "torch.Size([2, 24])\n"
     ]
    }
   ],
   "source": [
    "im_flatten = torch.flatten(im, 1)\n",
    "print(im_flatten.shape)"
   ]
  },
  {
   "cell_type": "code",
   "execution_count": 3,
   "metadata": {},
   "outputs": [],
   "source": [
    "# im_view = im_flatten.view(batch, channel, width, height)\n",
    "im_view = im_flatten.view((batch, channel, width, height))"
   ]
  },
  {
   "cell_type": "code",
   "execution_count": 4,
   "metadata": {},
   "outputs": [
    {
     "name": "stdout",
     "output_type": "stream",
     "text": [
      "torch.Size([2, 2, 3, 4])\n",
      "tensor([[[[ 0.7154, -0.1634, -0.6165, -1.7436],\n",
      "          [ 0.6458, -1.3668,  0.8625, -0.8867],\n",
      "          [ 0.9472,  1.2849, -1.1606, -1.6600]],\n",
      "\n",
      "         [[ 0.1520,  0.1975, -1.2695,  0.5366],\n",
      "          [-0.3363,  0.4827, -2.7839, -0.7188],\n",
      "          [ 0.5801, -1.6176,  0.1899, -1.3722]]],\n",
      "\n",
      "\n",
      "        [[[-0.5358, -1.2565,  0.3877, -0.0725],\n",
      "          [-0.2858,  1.8770, -1.2042,  0.1365],\n",
      "          [-0.7776, -0.8146, -1.9195,  2.6361]],\n",
      "\n",
      "         [[-1.8197,  1.6110,  0.0650,  1.1061],\n",
      "          [-0.0091,  0.5754, -0.8369, -0.3397],\n",
      "          [ 0.8645,  1.2806, -0.3324,  0.4522]]]])\n"
     ]
    }
   ],
   "source": [
    "print(im_view.shape)\n",
    "print(im_view)"
   ]
  }
 ],
 "metadata": {
  "kernelspec": {
   "display_name": "Python 3",
   "language": "python",
   "name": "python3"
  },
  "language_info": {
   "codemirror_mode": {
    "name": "ipython",
    "version": 3
   },
   "file_extension": ".py",
   "mimetype": "text/x-python",
   "name": "python",
   "nbconvert_exporter": "python",
   "pygments_lexer": "ipython3",
   "version": "3.8.3"
  }
 },
 "nbformat": 4,
 "nbformat_minor": 4
}
