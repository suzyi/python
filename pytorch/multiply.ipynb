{
 "cells": [
  {
   "cell_type": "markdown",
   "metadata": {},
   "source": [
    "### multiplication between two tensors\n",
    "Guorui Shen, guorui233@outlook.com, Jul 28, 2020."
   ]
  },
  {
   "cell_type": "code",
   "execution_count": 6,
   "metadata": {},
   "outputs": [
    {
     "name": "stdout",
     "output_type": "stream",
     "text": [
      "------------------input------------------\n",
      "tensor([[[[0., 1., 2.],\n",
      "          [3., 4., 5.],\n",
      "          [6., 7., 8.]]]])\n",
      "torch.Size([1, 1, 3, 3])\n",
      "tensor([[[[ 0., 10., 20.],\n",
      "          [30., 40., 50.],\n",
      "          [60., 70., 80.]]]])\n",
      "torch.Size([1, 1, 3, 3])\n",
      "------------------output------------------\n",
      "tensor([[[[  0.,  10.,  40.],\n",
      "          [ 90., 160., 250.],\n",
      "          [360., 490., 640.]]]])\n",
      "torch.Size([1, 1, 3, 3])\n",
      "tensor([[[[   nan, 0.1000, 0.1000],\n",
      "          [0.1000, 0.1000, 0.1000],\n",
      "          [0.1000, 0.1000, 0.1000]]]])\n",
      "torch.Size([1, 1, 3, 3])\n"
     ]
    }
   ],
   "source": [
    "import torch\n",
    "import torch.nn.functional as F\n",
    "print(\"------------------input------------------\")\n",
    "A = torch.arange(9, dtype=torch.float).reshape((1, 1, 3, 3))\n",
    "B = torch.arange(9, dtype=torch.float).reshape((1, 1, 3, 3))*10\n",
    "print(A)\n",
    "print(A.shape)\n",
    "print(B)\n",
    "print(B.shape)\n",
    "print(\"------------------output------------------\")\n",
    "res1 = A*B\n",
    "print(res1)\n",
    "print(res1.shape)\n",
    "res2 = A/B\n",
    "print(res2)\n",
    "print(res2.shape)"
   ]
  },
  {
   "cell_type": "code",
   "execution_count": 8,
   "metadata": {},
   "outputs": [
    {
     "name": "stdout",
     "output_type": "stream",
     "text": [
      "tensor(40.)\n"
     ]
    }
   ],
   "source": [
    "print(B.mean())"
   ]
  }
 ],
 "metadata": {
  "kernelspec": {
   "display_name": "Python 3",
   "language": "python",
   "name": "python3"
  },
  "language_info": {
   "codemirror_mode": {
    "name": "ipython",
    "version": 3
   },
   "file_extension": ".py",
   "mimetype": "text/x-python",
   "name": "python",
   "nbconvert_exporter": "python",
   "pygments_lexer": "ipython3",
   "version": "3.8.3"
  }
 },
 "nbformat": 4,
 "nbformat_minor": 4
}
