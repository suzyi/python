{
 "cells": [
  {
   "cell_type": "markdown",
   "metadata": {},
   "source": [
    "# transforms\n",
    "Guorui Shen, guorui233@outlook.com, Jul 30, 2020.\n",
    "+ `class torchvision.transforms.ToTensor`\n",
    "    + Convert a PIL Image or numpy.ndarray to tensor. Converts a PIL Image or numpy.ndarray (H x W x C) in the range [0, 255] to a torch.FloatTensor of shape (C x H x W) in the range [0.0, 1.0] if the PIL Image belongs to one of the modes (L, LA, P, I, F, RGB, YCbCr, RGBA, CMYK, 1) or if the numpy.ndarray has dtype = np.uint8\n",
    "+ `class torchvision.transforms.Normalize(mean, std, inplace=False)`\n",
    "    + Normalize a tensor image with mean and standard deviation. Given mean: (mean[1],...,mean[n]) and std: (std[1],..,std[n]) for n channels, this transform will normalize each channel of the input torch.*Tensor i.e., output[channel] = (input[channel] - mean[channel]) / std[channel]\n",
    "+ `class torchvision.transforms.CenterCrop(size)`\n",
    "    + Crops the given image at the center. The image can be a PIL Image or a torch Tensor, in which case it is expected to have […, H, W] shape, where … means an arbitrary number of leading dimensions\n",
    "    + size (sequence or int) – Desired output size of the crop. If size is an int instead of sequence like (h, w), a square crop (size, size) is made. If provided a tuple or list of length 1, it will be interpreted as (size[0], size[0]).\n",
    "+ `torchvision.transforms.functional.center_crop(img: torch.Tensor, output_size: List[int])`\n",
    "    + Crops the given image at the center. The image can be a PIL Image or a Tensor, in which case it is expected to have […, H, W] shape, where … means an arbitrary number of leading dimensions.\n",
    "+ `transforms.Resize(256)`\n",
    "    + input image is resized to be of size (256, 256)\n",
    "+ `transforms.RandomResizedCrop(224)`\n",
    "    + This will extract a patch of size (224, 224) from your input image randomly. So, it might pick this path from topleft, bottomright or anywhere in between. So, you are doing data augmentation in this part.\n",
    "+ `class torchvision.transforms.RandomCrop(size, padding=None, pad_if_needed=False, fill=0, padding_mode='constant')`\n",
    "    + Crop the given image at a random location. The image can be a PIL Image or a Tensor, in which case it is expected to have […, H, W] shape, where … means an arbitrary number of leading dimensions.\n",
    "+ `class torchvision.transforms.RandomHorizontalFlip(p=0.5)`\n",
    "    + Horizontally flip the given image randomly with a given probability. The image can be a PIL Image or a torch Tensor, in which case it is expected to have […, H, W] shape, where … means an arbitrary number of leading dimensions.\n",
    "    + p (float) – probability of the image being flipped. Default value is 0.5"
   ]
  },
  {
   "cell_type": "code",
   "execution_count": 1,
   "metadata": {},
   "outputs": [],
   "source": [
    "from torchvision import datasets, transforms\n",
    "import torch"
   ]
  },
  {
   "cell_type": "markdown",
   "metadata": {},
   "source": [
    "### `class torchvision.transforms.ToTensor` and `class torchvision.transforms.Normalize(mean, std, inplace=False)`"
   ]
  },
  {
   "cell_type": "code",
   "execution_count": 2,
   "metadata": {},
   "outputs": [],
   "source": [
    "transform=transforms.Compose([\n",
    "    transforms.ToTensor(), # From int in the interval (0, 255) to float in [0, 1].\n",
    "    transforms.Normalize((0.1307,), (0.3081,)) # (x-mean)/variance. Images in mnist are allsingle channel.\n",
    "    ])\n",
    "dataset1 = datasets.MNIST('data', train=True, download=False,\n",
    "                   transform=transform)\n",
    "dataset2 = datasets.MNIST('data', train=False,\n",
    "                   transform=transform)"
   ]
  },
  {
   "cell_type": "code",
   "execution_count": 3,
   "metadata": {},
   "outputs": [
    {
     "name": "stdout",
     "output_type": "stream",
     "text": [
      "len(train_loader.dataset)= 60000 , len(test_loader.dataset)= 10000\n"
     ]
    }
   ],
   "source": [
    "kwargs = {'batch_size': 8}\n",
    "train_loader = torch.utils.data.DataLoader(dataset1,**kwargs)\n",
    "test_loader = torch.utils.data.DataLoader(dataset2, **kwargs)\n",
    "print(\"len(train_loader.dataset)=\", len(train_loader.dataset), \", len(test_loader.dataset)=\", len(test_loader.dataset))"
   ]
  },
  {
   "cell_type": "code",
   "execution_count": 4,
   "metadata": {},
   "outputs": [
    {
     "name": "stdout",
     "output_type": "stream",
     "text": [
      "torch.Size([60000, 28, 28])\n",
      "<built-in method type of Tensor object at 0x000001F159730080>\n",
      "torch.Size([60000])\n",
      "<built-in method type of Tensor object at 0x000001F15972FAC0>\n"
     ]
    }
   ],
   "source": [
    "print(train_loader.dataset.data.shape)\n",
    "print(train_loader.dataset.data.type)\n",
    "print(train_loader.dataset.targets.shape)\n",
    "print(train_loader.dataset.targets.type)"
   ]
  },
  {
   "cell_type": "code",
   "execution_count": 5,
   "metadata": {},
   "outputs": [
    {
     "name": "stdout",
     "output_type": "stream",
     "text": [
      "torch.Size([60000, 28, 28])\n",
      "<built-in method type of Tensor object at 0x000001F159730080>\n"
     ]
    },
    {
     "name": "stderr",
     "output_type": "stream",
     "text": [
      "D:\\anaconda3\\lib\\site-packages\\torchvision\\datasets\\mnist.py:55: UserWarning: train_data has been renamed data\n",
      "  warnings.warn(\"train_data has been renamed data\")\n"
     ]
    }
   ],
   "source": [
    "print(train_loader.dataset.train_data.shape)\n",
    "print(train_loader.dataset.train_data.type)"
   ]
  },
  {
   "cell_type": "code",
   "execution_count": 6,
   "metadata": {},
   "outputs": [
    {
     "name": "stdout",
     "output_type": "stream",
     "text": [
      "Dataset MNIST\n",
      "    Number of datapoints: 60000\n",
      "    Root location: data\n",
      "    Split: Train\n",
      "    StandardTransform\n",
      "Transform: Compose(\n",
      "               ToTensor()\n",
      "               Normalize(mean=(0.1307,), std=(0.3081,))\n",
      "           )\n",
      "tensor([-0.4242, -0.4242, -0.4242, -0.4242, -0.4242, -0.4242, -0.4242, -0.4242,\n",
      "        -0.4242, -0.4242, -0.4242, -0.4242, -0.4242, -0.4242, -0.4242, -0.4242,\n",
      "        -0.4242, -0.4242, -0.4242, -0.4242, -0.4242, -0.4242, -0.4242, -0.4242,\n",
      "        -0.4242, -0.4242, -0.4242, -0.4242])\n",
      "tensor([-0.4242, -0.4242, -0.4242, -0.4242, -0.4242, -0.4242, -0.4242, -0.4242,\n",
      "        -0.4242, -0.4242, -0.4242, -0.4242, -0.4242, -0.4242, -0.4242, -0.4242,\n",
      "        -0.4242, -0.4242, -0.4242, -0.4242, -0.4242, -0.4242, -0.4242, -0.4242,\n",
      "        -0.4242, -0.4242, -0.4242, -0.4242])\n"
     ]
    }
   ],
   "source": [
    "print(train_loader.dataset)\n",
    "# print(train_loader.dataset[0])\n",
    "# print(train_loader.dataset[0][0])\n",
    "print(train_loader.dataset[0][0][0][0])\n",
    "print(train_loader.dataset[0][0][0][27])"
   ]
  },
  {
   "cell_type": "code",
   "execution_count": 7,
   "metadata": {},
   "outputs": [
    {
     "name": "stdout",
     "output_type": "stream",
     "text": [
      "torch.Size([8, 1, 28, 28])\n",
      "tensor([5, 0, 4, 1, 9, 2, 1, 3])\n",
      "8\n"
     ]
    }
   ],
   "source": [
    "dataiter = iter(train_loader)\n",
    "im = dataiter.next()\n",
    "print(im[0].shape)\n",
    "print(im[1])\n",
    "print(len(im[1]))"
   ]
  },
  {
   "cell_type": "markdown",
   "metadata": {},
   "source": [
    "### `class torchvision.transforms.CenterCrop(size)`"
   ]
  },
  {
   "cell_type": "code",
   "execution_count": 8,
   "metadata": {},
   "outputs": [],
   "source": [
    "# im_cropped = transforms.functional.center_crop(img=im[0], output_size=3)"
   ]
  },
  {
   "cell_type": "code",
   "execution_count": 9,
   "metadata": {},
   "outputs": [],
   "source": [
    "CenterCrop_size = 20\n",
    "transform=transforms.Compose([\n",
    "#     transforms.CenterCrop(size=CenterCrop_size), # This line should be placed before `transforms.ToTensor()`.\n",
    "    transforms.RandomCrop(size=CenterCrop_size, padding=None, pad_if_needed=False, fill=0, padding_mode='constant'),\n",
    "#     transforms.Resize(CenterCrop_size),\n",
    "#     transforms.RandomHorizontalFlip(p=0.3),\n",
    "    transforms.ToTensor(), # From int in the interval (0, 255) to float in [0, 1].\n",
    "    ])\n",
    "dataset1_cropped = datasets.MNIST('data', train=True, download=False, transform=transform)\n",
    "train_loader_cropped = torch.utils.data.DataLoader(dataset1_cropped,**kwargs)"
   ]
  },
  {
   "cell_type": "code",
   "execution_count": 10,
   "metadata": {},
   "outputs": [],
   "source": [
    "# dataset1_cropped = datasets.ImageFolder(root='./ssim-AE-20200727/train-original-10imgs', transform=transform)\n",
    "# train_loader_cropped = torch.utils.data.DataLoader(dataset=dataset1_cropped, batch_size=4, shuffle=True, num_workers=2)"
   ]
  },
  {
   "cell_type": "code",
   "execution_count": 11,
   "metadata": {},
   "outputs": [],
   "source": [
    "import matplotlib.pyplot as plt\n",
    "import numpy as np\n",
    "def imshow(img):\n",
    "    img = img / 2 + 0.5     # unnormalize\n",
    "    npimg = img.numpy()\n",
    "    npimg_final = np.transpose(npimg, (1, 2, 0))\n",
    "    print(npimg_final.shape)\n",
    "    plt.imshow(npimg_final)\n",
    "    plt.show()\n",
    "    \n",
    "def imshow_mnist(img):\n",
    "    img = img / 2 + 0.5     # unnormalize\n",
    "    npimg = img.numpy()\n",
    "    print(npimg.shape)\n",
    "    npimg_final = npimg.reshape((CenterCrop_size, CenterCrop_size))\n",
    "    print(npimg_final.shape)\n",
    "    plt.imshow(npimg_final, cmap='Greys') # For single channel images\n",
    "    plt.show()"
   ]
  },
  {
   "cell_type": "markdown",
   "metadata": {},
   "source": [
    "## Both `enumerate` and `iter` can be used to display DataLoader\n",
    "### method 1- enumerate\n",
    "+ use this one if there is a few images to display."
   ]
  },
  {
   "cell_type": "code",
   "execution_count": 12,
   "metadata": {},
   "outputs": [],
   "source": [
    "# for i, data in enumerate(train_loader_cropped):\n",
    "#     inputs, labels = data\n",
    "#     print(\"i={}, inputs.shape={}, labels.shape={}\".format(i, inputs.shape, labels.shape))\n",
    "#     imshow(inputs[0])"
   ]
  },
  {
   "cell_type": "markdown",
   "metadata": {},
   "source": [
    "### method 2- iter\n",
    "+ use this one if there are many images to display, such as minist dataset, so that you don't have a lot of redundant images to see."
   ]
  },
  {
   "cell_type": "code",
   "execution_count": 13,
   "metadata": {},
   "outputs": [
    {
     "name": "stdout",
     "output_type": "stream",
     "text": [
      "torch.Size([8, 1, 20, 20])\n",
      "(1, 20, 20)\n",
      "(20, 20)\n"
     ]
    },
    {
     "data": {
      "image/png": "[encoded data removed]",
      "text/plain": [
       "<Figure size 432x288 with 1 Axes>"
      ]
     },
     "metadata": {
      "needs_background": "light"
     },
     "output_type": "display_data"
    }
   ],
   "source": [
    "dataiter = iter(train_loader_cropped)\n",
    "im = dataiter.next()\n",
    "print(im[0].shape)\n",
    "imshow_mnist(im[0][0])"
   ]
  },
  {
   "cell_type": "code",
   "execution_count": 14,
   "metadata": {},
   "outputs": [
    {
     "ename": "NameError",
     "evalue": "name 'labels' is not defined",
     "output_type": "error",
     "traceback": [
      "\u001b[1;31m---------------------------------------------------------------------------\u001b[0m",
      "\u001b[1;31mNameError\u001b[0m                                 Traceback (most recent call last)",
      "\u001b[1;32m<ipython-input-14-f503fe1b8c95>\u001b[0m in \u001b[0;36m<module>\u001b[1;34m\u001b[0m\n\u001b[1;32m----> 1\u001b[1;33m \u001b[0mprint\u001b[0m\u001b[1;33m(\u001b[0m\u001b[0mlabels\u001b[0m\u001b[1;33m.\u001b[0m\u001b[0mshape\u001b[0m\u001b[1;33m)\u001b[0m\u001b[1;33m\u001b[0m\u001b[1;33m\u001b[0m\u001b[0m\n\u001b[0m",
      "\u001b[1;31mNameError\u001b[0m: name 'labels' is not defined"
     ]
    }
   ],
   "source": [
    "print(labels.shape)"
   ]
  },
  {
   "cell_type": "code",
   "execution_count": null,
   "metadata": {},
   "outputs": [],
   "source": []
  }
 ],
 "metadata": {
  "kernelspec": {
   "display_name": "Python 3",
   "language": "python",
   "name": "python3"
  },
  "language_info": {
   "codemirror_mode": {
    "name": "ipython",
    "version": 3
   },
   "file_extension": ".py",
   "mimetype": "text/x-python",
   "name": "python",
   "nbconvert_exporter": "python",
   "pygments_lexer": "ipython3",
   "version": "3.8.3"
  }
 },
 "nbformat": 4,
 "nbformat_minor": 4
}
