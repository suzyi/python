{
 "cells": [
  {
   "cell_type": "code",
   "execution_count": 1,
   "metadata": {},
   "outputs": [],
   "source": [
    "import tensorflow as tf"
   ]
  },
  {
   "cell_type": "code",
   "execution_count": 2,
   "metadata": {},
   "outputs": [],
   "source": [
    "sess = tf.Session()"
   ]
  },
  {
   "cell_type": "code",
   "execution_count": 3,
   "metadata": {},
   "outputs": [
    {
     "name": "stdout",
     "output_type": "stream",
     "text": [
      "[[[[ 0.6820835   0.9858938   1.6080976   0.65885395 -1.0995369\n",
      "    -1.124605   -0.12304053]]\n",
      "\n",
      "  [[-0.14347394  0.326339    0.4424145   0.6218484   0.12573698\n",
      "    -1.311953   -0.8269463 ]]\n",
      "\n",
      "  [[ 0.6407937  -1.1264032   2.4000785   0.20515215  0.74143964\n",
      "    -1.0227413   0.33201027]]]\n",
      "\n",
      "\n",
      " [[[-0.62621665  0.3830695   0.291774   -0.12526183  0.8745542\n",
      "     2.2419999  -0.1432853 ]]\n",
      "\n",
      "  [[-1.831741    1.1947778  -0.02172174 -1.5958616   0.7202444\n",
      "     0.87491363 -0.8777821 ]]\n",
      "\n",
      "  [[ 0.41385248 -0.28593624 -1.9524648   0.6111888  -1.1940188\n",
      "     1.4319752  -0.8294098 ]]]]\n"
     ]
    }
   ],
   "source": [
    "a=tf.random_normal([2,3,1,7])\n",
    "print sess.run(a)"
   ]
  },
  {
   "cell_type": "code",
   "execution_count": 4,
   "metadata": {},
   "outputs": [],
   "source": [
    "weight={\n",
    "    'w':tf.random_normal([2,3,1,7])\n",
    "}"
   ]
  },
  {
   "cell_type": "code",
   "execution_count": 5,
   "metadata": {},
   "outputs": [
    {
     "name": "stdout",
     "output_type": "stream",
     "text": [
      "Tensor(\"random_normal_1:0\", shape=(2, 3, 1, 7), dtype=float32)\n",
      "[[[[-0.13140655  0.32288194  0.12017763  1.3145927  -1.1222517\n",
      "     0.7857699  -1.6015173 ]]\n",
      "\n",
      "  [[ 0.7820082  -0.3199886  -1.3913038   0.34264866 -0.68449277\n",
      "    -0.42822728  1.0886736 ]]\n",
      "\n",
      "  [[ 1.1732622  -0.49199963  0.2459217   0.845502   -0.00369501\n",
      "     1.2565976  -1.1702244 ]]]\n",
      "\n",
      "\n",
      " [[[ 0.29298985 -1.3591657   0.9439367   1.6145067  -0.6600059\n",
      "    -0.35692903  0.61663914]]\n",
      "\n",
      "  [[-1.0009015  -0.47138807 -1.6088183  -1.4799358   0.20489551\n",
      "    -0.2456355  -1.0827676 ]]\n",
      "\n",
      "  [[ 1.0623491   2.272334    0.8371981  -0.5542917  -0.11597879\n",
      "    -0.3261841   0.76697296]]]]\n"
     ]
    }
   ],
   "source": [
    "print weight['w']\n",
    "print sess.run(weight['w'])"
   ]
  }
 ],
 "metadata": {
  "anaconda-cloud": {},
  "kernelspec": {
   "display_name": "kernelForTF",
   "language": "python",
   "name": "kernelfortf"
  },
  "language_info": {
   "codemirror_mode": {
    "name": "ipython",
    "version": 2
   },
   "file_extension": ".py",
   "mimetype": "text/x-python",
   "name": "python",
   "nbconvert_exporter": "python",
   "pygments_lexer": "ipython2",
   "version": "2.7.12"
  }
 },
 "nbformat": 4,
 "nbformat_minor": 1
}
