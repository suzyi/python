{
 "cells": [
  {
   "cell_type": "markdown",
   "metadata": {},
   "source": [
    "# Python Parallel demo\n",
    "Apr 24, 2019. Guorui Shen, guorui233@outlook.com\n",
    "\n",
    "This notebook is a simple parallel demonstration in Python, with minor modification from [1] for better understanding.\n",
    "\n",
    "[1] https://www.machinelearningplus.com/python/parallel-processing-python/"
   ]
  },
  {
   "cell_type": "code",
   "execution_count": 1,
   "metadata": {},
   "outputs": [],
   "source": [
    "import multiprocessing as mp\n",
    "import numpy as np\n",
    "from timeit import default_timer as timer"
   ]
  },
  {
   "cell_type": "code",
   "execution_count": 2,
   "metadata": {},
   "outputs": [
    {
     "name": "stdout",
     "output_type": "stream",
     "text": [
      "('Number of processors: ', 4)\n"
     ]
    }
   ],
   "source": [
    "# how many CPUs do you have in your machine?\n",
    "print(\"Number of processors: \", mp.cpu_count())"
   ]
  },
  {
   "cell_type": "code",
   "execution_count": 3,
   "metadata": {},
   "outputs": [
    {
     "name": "stdout",
     "output_type": "stream",
     "text": [
      "[[8, 8, 3, 7, 7], [0, 4, 2, 5, 2], [2, 2, 1, 0, 8], [4, 0, 9, 6, 2], [4, 1, 5, 3, 4]]\n"
     ]
    }
   ],
   "source": [
    "def howmany_within_range(row, minimum=4, maximum=8):\n",
    "    \"\"\"\n",
    "    input:\n",
    "        row: a vector contained several real numbers\n",
    "        [minimum, maximum]: an interval\n",
    "    return:\n",
    "        count: the number of row's elements that lie in [minimum, maximum]\n",
    "    \"\"\"\n",
    "    count = 0\n",
    "    for n in row:\n",
    "        if minimum <= n <= maximum:\n",
    "            count = count + 1\n",
    "    return count\n",
    "\n",
    "# Prepare data\n",
    "np.random.seed(100)\n",
    "arr = np.random.randint(0, 10, size=[200000, 5])\n",
    "data = arr.tolist()\n",
    "print data[:5]"
   ]
  },
  {
   "cell_type": "markdown",
   "metadata": {},
   "source": [
    "### no parallel"
   ]
  },
  {
   "cell_type": "code",
   "execution_count": 4,
   "metadata": {},
   "outputs": [
    {
     "name": "stdout",
     "output_type": "stream",
     "text": [
      "[4, 2, 1, 2, 3, 2, 2, 2, 2, 2]\n",
      "Time cost without paralleling is 0.0833251476288 seconds.\n"
     ]
    }
   ],
   "source": [
    "# Solution Without Parallelization\n",
    "results = []\n",
    "time_start = timer()\n",
    "for row in data:\n",
    "    results.append(howmany_within_range(row, minimum=4, maximum=8))\n",
    "print(results[:10])\n",
    "\n",
    "# time cost\n",
    "time_end = timer()\n",
    "print \"Time cost without paralleling is\", time_end - time_start, \"seconds.\""
   ]
  },
  {
   "cell_type": "markdown",
   "metadata": {},
   "source": [
    "## Parallel computing\n",
    "In parallel processing, there are two types of execution: Synchronous and Asynchronous.\n",
    "\n",
    "A synchronous execution is one the processes are completed in the same order in which it was started. This is achieved by locking the main program until the respective processes are finished.\n",
    "\n",
    "Asynchronous, on the other hand, doesn’t involve locking. As a result, the order of results can get mixed up but usually gets done quicker."
   ]
  },
  {
   "cell_type": "markdown",
   "metadata": {},
   "source": [
    "### synchronously parallel computing"
   ]
  },
  {
   "cell_type": "code",
   "execution_count": 5,
   "metadata": {},
   "outputs": [
    {
     "name": "stdout",
     "output_type": "stream",
     "text": [
      "[4, 2, 1, 2, 3, 2, 2, 2, 2, 2]\n",
      "Time cost without paralleling is 10.4073710442 seconds.\n"
     ]
    }
   ],
   "source": [
    "# Parallelizing with Pool.apply()\n",
    "results = []\n",
    "time_start = timer()\n",
    "pool_1 = mp.Pool(mp.cpu_count())\n",
    "results = [pool_1.apply(howmany_within_range, args=(row, 4, 8)) for row in data]\n",
    "pool_1.close()\n",
    "print(results[:10])\n",
    "\n",
    "# time cost\n",
    "time_end = timer()\n",
    "print \"Time cost without paralleling is\", time_end - time_start, \"seconds.\""
   ]
  },
  {
   "cell_type": "code",
   "execution_count": 6,
   "metadata": {},
   "outputs": [
    {
     "name": "stdout",
     "output_type": "stream",
     "text": [
      "[4, 2, 1, 2, 3, 2, 2, 2, 2, 2]\n",
      "Time cost without paralleling is 0.22460103035 seconds.\n"
     ]
    }
   ],
   "source": [
    "# Parallelizing with Pool.map()\n",
    "time_start = timer()\n",
    "pool_2 = mp.Pool(mp.cpu_count())\n",
    "results = pool_2.map(howmany_within_range, [row for row in data])\n",
    "pool_2.close()\n",
    "print(results[:10])\n",
    "\n",
    "# time cost\n",
    "time_end = timer()\n",
    "print \"Time cost without paralleling is\", time_end - time_start, \"seconds.\""
   ]
  },
  {
   "cell_type": "markdown",
   "metadata": {},
   "source": [
    "### asynchronously parallel computing\n",
    "The asynchronous equivalents `apply_async()`, `map_async()` and `starmap_async()` lets you do execute the processes in parallel asynchronously, that is the next process can start as soon as previous one gets over without regard for the starting order. As a result, there is no guarantee that the result will be in the same order as the input."
   ]
  },
  {
   "cell_type": "code",
   "execution_count": 7,
   "metadata": {},
   "outputs": [
    {
     "name": "stdout",
     "output_type": "stream",
     "text": [
      "[4, 2, 1, 2, 3, 2, 2, 2, 2, 2]\n",
      "Time cost without paralleling is 7.66351318359 seconds.\n"
     ]
    }
   ],
   "source": [
    "results = []\n",
    "\n",
    "# Step 1: Redefine, to accept `i`, the iteration number\n",
    "def howmany_within_range2(i, row, minimum, maximum):\n",
    "    \"\"\"Returns how many numbers lie within `maximum` and `minimum` in a given `row`\"\"\"\n",
    "    count = 0\n",
    "    for n in row:\n",
    "        if minimum <= n <= maximum:\n",
    "            count = count + 1\n",
    "    return (i, count)\n",
    "\n",
    "# Step 2: Define callback function to collect the output in `results`\n",
    "def collect_result(result):\n",
    "    global results\n",
    "    results.append(result)\n",
    "\n",
    "# Step 3: Use loop to parallelize\n",
    "time_start = timer()\n",
    "pool_3 = mp.Pool(mp.cpu_count())\n",
    "for i, row in enumerate(data):\n",
    "    pool_3.apply_async(howmany_within_range2, args=(i, row, 4, 8), callback=collect_result)\n",
    "\n",
    "# Step 4: Close Pool and let all the processes complete    \n",
    "pool_3.close()\n",
    "pool_3.join()  # postpones the execution of next line of code until all processes in the queue are done.\n",
    "\n",
    "# Step 5: Sort results [OPTIONAL]\n",
    "results.sort(key=lambda x: x[0])\n",
    "results_final = [r for i, r in results]\n",
    "print(results_final[:10])\n",
    "\n",
    "# time cost\n",
    "time_end = timer()\n",
    "print \"Time cost without paralleling is\", time_end - time_start, \"seconds.\""
   ]
  },
  {
   "cell_type": "code",
   "execution_count": null,
   "metadata": {},
   "outputs": [],
   "source": []
  }
 ],
 "metadata": {
  "kernelspec": {
   "display_name": "kernelForTF",
   "language": "python",
   "name": "kernelfortf"
  },
  "language_info": {
   "codemirror_mode": {
    "name": "ipython",
    "version": 2
   },
   "file_extension": ".py",
   "mimetype": "text/x-python",
   "name": "python",
   "nbconvert_exporter": "python",
   "pygments_lexer": "ipython2",
   "version": "2.7.12"
  }
 },
 "nbformat": 4,
 "nbformat_minor": 2
}
