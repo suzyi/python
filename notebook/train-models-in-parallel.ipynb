{
 "cells": [
  {
   "cell_type": "markdown",
   "metadata": {},
   "source": [
    "# Python Parallel demo\n",
    "Apr 24, 2019. Guorui Shen, guorui233@outlook.com\n",
    "\n",
    "This notebook is a simple parallel demonstration in Python, code can be obtained from [1].\n",
    "+ This notebook demonstrate how to train several models in parallel.\n",
    "+ To run this notebook, you need to have \"joblib\" installed on your machine.\n",
    "\n",
    "[1] https://stackoverflow.com/questions/29589327/train-multiple-models-in-parallel-with-sklearn"
   ]
  },
  {
   "cell_type": "code",
   "execution_count": 1,
   "metadata": {},
   "outputs": [],
   "source": [
    "from joblib import Parallel, delayed\n",
    "from sklearn.svm import LinearSVC\n",
    "import numpy as np\n",
    "\n",
    "def train_model(X, y, seed):\n",
    "    model = LinearSVC(random_state=seed)\n",
    "    return model.fit(X, y)\n",
    "\n",
    "X = np.array([[1,2,3],[4,5,6]])\n",
    "y = np.array([0, 1])\n",
    "result = Parallel(n_jobs=4)(delayed(train_model)(X, y, seed) for seed in range(10))\n",
    "# result is a list of 10 models trained using different seeds"
   ]
  },
  {
   "cell_type": "code",
   "execution_count": 2,
   "metadata": {},
   "outputs": [
    {
     "name": "stdout",
     "output_type": "stream",
     "text": [
      "10 [[ 0.64576081  0.15263713 -0.34048655]]\n"
     ]
    }
   ],
   "source": [
    "print len(result), result[0].coef_"
   ]
  },
  {
   "cell_type": "code",
   "execution_count": 3,
   "metadata": {},
   "outputs": [
    {
     "name": "stdout",
     "output_type": "stream",
     "text": [
      "[0]\n",
      "[1]\n"
     ]
    }
   ],
   "source": [
    "print result[0].predict([[1,2,3]])\n",
    "print result[0].predict([[4,5,6]])"
   ]
  }
 ],
 "metadata": {
  "kernelspec": {
   "display_name": "kernelForTF",
   "language": "python",
   "name": "kernelfortf"
  },
  "language_info": {
   "codemirror_mode": {
    "name": "ipython",
    "version": 2
   },
   "file_extension": ".py",
   "mimetype": "text/x-python",
   "name": "python",
   "nbconvert_exporter": "python",
   "pygments_lexer": "ipython2",
   "version": "2.7.12"
  }
 },
 "nbformat": 4,
 "nbformat_minor": 2
}
